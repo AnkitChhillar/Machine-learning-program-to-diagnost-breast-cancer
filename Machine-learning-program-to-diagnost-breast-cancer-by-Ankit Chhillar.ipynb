{
 "cells": [
  {
   "cell_type": "code",
   "execution_count": 4,
   "metadata": {},
   "outputs": [
    {
     "name": "stdout",
     "output_type": "stream",
     "text": [
      "Features:  ['mean radius' 'mean texture' 'mean perimeter' 'mean area'\n",
      " 'mean smoothness' 'mean compactness' 'mean concavity'\n",
      " 'mean concave points' 'mean symmetry' 'mean fractal dimension'\n",
      " 'radius error' 'texture error' 'perimeter error' 'area error'\n",
      " 'smoothness error' 'compactness error' 'concavity error'\n",
      " 'concave points error' 'symmetry error' 'fractal dimension error'\n",
      " 'worst radius' 'worst texture' 'worst perimeter' 'worst area'\n",
      " 'worst smoothness' 'worst compactness' 'worst concavity'\n",
      " 'worst concave points' 'worst symmetry' 'worst fractal dimension']\n",
      "Labels:  ['malignant' 'benign']\n",
      "Accuracy: 0.9649122807017544\n",
      "Precision: 0.9811320754716981\n",
      "Recall: 0.9629629629629629\n"
     ]
    }
   ],
   "source": [
    "#Example from: https://www.datacamp.com/tutorial/svm-classification-scikit-learn-python\n",
    "#Let's first load the required dataset you will use.\n",
    "#Import scikit-learn dataset library\n",
    "from sklearn import datasets\n",
    "\n",
    "#Load dataset\n",
    "cancer = datasets.load_breast_cancer()\n",
    "#Exploring Data\n",
    "\n",
    "#After you have loaded the dataset, you might want to know a little bit more about it. You can check feature and target names.\n",
    "# print the names of the 13 features\n",
    "print(\"Features: \", cancer.feature_names)\n",
    "\n",
    "# print the label type of cancer('malignant' 'benign')\n",
    "print(\"Labels: \", cancer.target_names)\n",
    "#Splitting Data\n",
    "\n",
    "#To understand model performance, dividing the dataset into a training set and a test set is a good strategy.\n",
    "\n",
    "#Split the dataset by using the function train_test_split(). you need to pass 3 parameters features, target, and test_set size. Additionally, you can use random_state to select records randomly.\n",
    "# Import train_test_split function\n",
    "from sklearn.model_selection import train_test_split\n",
    "\n",
    "# Split dataset into training set and test set\n",
    "X_train, X_test, y_train, y_test = train_test_split(cancer.data, cancer.target, test_size=0.3,random_state=109) # 70% training and 30% test\n",
    "#Generating Model\n",
    "\n",
    "#Let's build support vector machine model. First, import the SVM module and create support vector classifier object by passing argument kernel as the linear kernel in SVC() function.\n",
    "\n",
    "#Then, fit your model on train set using fit() and perform prediction on the test set using predict().\n",
    "#Import svm model\n",
    "from sklearn import svm\n",
    "\n",
    "#Create a svm Classifier\n",
    "clf = svm.SVC(kernel='linear') # Linear Kernel\n",
    "\n",
    "#Train the model using the training sets\n",
    "clf.fit(X_train, y_train)\n",
    "\n",
    "#Predict the response for test dataset\n",
    "y_pred = clf.predict(X_test)\n",
    "#Evaluating the Model\n",
    "\n",
    "#Let's estimate how accurately the classifier or model can predict the breast cancer of patients.\n",
    "\n",
    "#Accuracy can be computed by comparing actual test set values and predicted values.\n",
    "#Import scikit-learn metrics module for accuracy calculation\n",
    "from sklearn import metrics\n",
    "\n",
    "# Model Accuracy: how often is the classifier correct?\n",
    "print(\"Accuracy:\",metrics.accuracy_score(y_test, y_pred))\n",
    "#Well, you got a classification rate of 96.49%, considered as very good accuracy.\n",
    "\n",
    "#For further evaluation, you can also check precision and recall of model.\n",
    "# Model Precision: what percentage of positive tuples are labeled as such?\n",
    "print(\"Precision:\",metrics.precision_score(y_test, y_pred))\n",
    "\n",
    "# Model Recall: what percentage of positive tuples are labelled as such?\n",
    "print(\"Recall:\",metrics.recall_score(y_test, y_pred))"
   ]
  },
  {
   "cell_type": "code",
   "execution_count": null,
   "metadata": {},
   "outputs": [],
   "source": [
    "#use a k-fold cross-validation and a test dataset. Report the final performance for the test dataset.\n"
   ]
  },
  {
   "cell_type": "code",
   "execution_count": 5,
   "metadata": {},
   "outputs": [
    {
     "name": "stdout",
     "output_type": "stream",
     "text": [
      "Cross-validation scores:  [0.975      0.9375     0.9125     0.96202532 0.93670886]\n",
      "Mean cross-validation score:  0.944746835443038\n",
      "Test accuracy:  0.9649122807017544\n"
     ]
    }
   ],
   "source": [
    "from sklearn.model_selection import cross_val_score, train_test_split\n",
    "from sklearn import svm\n",
    "from sklearn import datasets\n",
    "\n",
    "# load the breast cancer dataset\n",
    "cancer = datasets.load_breast_cancer()\n",
    "\n",
    "# split the dataset into training and test sets\n",
    "X_train, X_test, y_train, y_test = train_test_split(cancer.data, cancer.target, test_size=0.3, random_state=109)\n",
    "\n",
    "# create a SVM classifier with the linear kernel\n",
    "clf = svm.SVC(kernel='linear')\n",
    "\n",
    "# use 5-fold cross-validation to evaluate the classifier\n",
    "scores = cross_val_score(clf, X_train, y_train, cv=5)\n",
    "\n",
    "# report the cross-validation scores\n",
    "print('Cross-validation scores: ', scores)\n",
    "\n",
    "# report the mean cross-validation score\n",
    "print('Mean cross-validation score: ', scores.mean())\n",
    "\n",
    "# train the classifier on the full training dataset\n",
    "clf.fit(X_train, y_train)\n",
    "\n",
    "# evaluate the classifier on the test dataset\n",
    "y_pred = clf.predict(X_test)\n",
    "\n",
    "# report the accuracy of the classifier on the test dataset\n",
    "test_accuracy = clf.score(X_test, y_test)\n",
    "print('Test accuracy: ', test_accuracy)"
   ]
  },
  {
   "cell_type": "code",
   "execution_count": 6,
   "metadata": {},
   "outputs": [],
   "source": [
    "##1. use a k-fold cross-validation and a test dataset. Report the final performance for the test dataset.\n",
    "##2. use gridsearch or randomsearch to tune the hyperparameters in your ML classifier;"
   ]
  },
  {
   "cell_type": "code",
   "execution_count": 7,
   "metadata": {},
   "outputs": [
    {
     "name": "stdout",
     "output_type": "stream",
     "text": [
      "Best parameters: {'C': 0.1, 'gamma': 0.1}\n",
      "Cross-validation scores: [0.62280702 0.62280702 0.63157895 0.63157895 0.62831858]\n",
      "Test set score: 0.63\n"
     ]
    }
   ],
   "source": [
    "from sklearn.model_selection import cross_val_score, GridSearchCV, train_test_split\n",
    "from sklearn.svm import SVC\n",
    "from sklearn.datasets import load_breast_cancer\n",
    "\n",
    "# Load the dataset\n",
    "cancer = load_breast_cancer()\n",
    "\n",
    "# Split the dataset into training and test sets\n",
    "X_train, X_test, y_train, y_test = train_test_split(cancer.data, cancer.target, random_state=0)\n",
    "\n",
    "# Create a support vector classifier object\n",
    "svc = SVC()\n",
    "\n",
    "# Define the grid of hyperparameters to search over\n",
    "param_grid = {'C': [0.1, 1, 10], 'gamma': [0.1, 1, 10]}\n",
    "\n",
    "# Use grid search to find the best hyperparameters\n",
    "grid_search = GridSearchCV(svc, param_grid, cv=5)\n",
    "grid_search.fit(X_train, y_train)\n",
    "\n",
    "# Print the best hyperparameters found by grid search\n",
    "print(\"Best parameters: {}\".format(grid_search.best_params_))\n",
    "\n",
    "# Use the best hyperparameters to create the final classifier\n",
    "svc_final = SVC(C=grid_search.best_params_['C'], gamma=grid_search.best_params_['gamma'])\n",
    "svc_final.fit(X_train, y_train)\n",
    "\n",
    "# Use k-fold cross-validation to estimate the performance of the final classifier\n",
    "cv_scores = cross_val_score(svc_final, cancer.data, cancer.target, cv=5)\n",
    "print(\"Cross-validation scores: {}\".format(cv_scores))\n",
    "\n",
    "# Report the final performance for the test dataset\n",
    "test_score = svc_final.score(X_test, y_test)\n",
    "print(\"Test set score: {:.2f}\".format(test_score))"
   ]
  },
  {
   "cell_type": "code",
   "execution_count": null,
   "metadata": {},
   "outputs": [],
   "source": []
  }
 ],
 "metadata": {
  "kernelspec": {
   "display_name": "Python 3",
   "language": "python",
   "name": "python3"
  },
  "language_info": {
   "codemirror_mode": {
    "name": "ipython",
    "version": 3
   },
   "file_extension": ".py",
   "mimetype": "text/x-python",
   "name": "python",
   "nbconvert_exporter": "python",
   "pygments_lexer": "ipython3",
   "version": "3.8.5"
  }
 },
 "nbformat": 4,
 "nbformat_minor": 4
}
